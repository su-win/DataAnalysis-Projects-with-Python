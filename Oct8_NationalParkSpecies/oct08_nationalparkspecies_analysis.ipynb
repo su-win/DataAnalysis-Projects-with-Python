{
 "cells": [
  {
   "cell_type": "code",
   "execution_count": 9,
   "metadata": {},
   "outputs": [],
   "source": [
    "import pandas as pd\n",
    "import plotly.express as px\n",
    "import plotly.graph_objects as go\n",
    "from ipywidgets import widgets\n",
    "from IPython.display import display"
   ]
  },
  {
   "cell_type": "code",
   "execution_count": 10,
   "metadata": {},
   "outputs": [
    {
     "name": "stdout",
     "output_type": "stream",
     "text": [
      "<class 'pandas.core.frame.DataFrame'>\n",
      "RangeIndex: 61119 entries, 0 to 61118\n",
      "Data columns (total 28 columns):\n",
      " #   Column                Non-Null Count  Dtype  \n",
      "---  ------                --------------  -----  \n",
      " 0   ParkCode              61119 non-null  object \n",
      " 1   ParkName              61119 non-null  object \n",
      " 2   CategoryName          61119 non-null  object \n",
      " 3   Order                 60258 non-null  object \n",
      " 4   Family                60217 non-null  object \n",
      " 5   TaxonRecordStatus     61119 non-null  object \n",
      " 6   SciName               61119 non-null  object \n",
      " 7   CommonNames           34060 non-null  object \n",
      " 8   Synonyms              0 non-null      float64\n",
      " 9   ParkAccepted          61119 non-null  bool   \n",
      " 10  Sensitive             61119 non-null  bool   \n",
      " 11  RecordStatus          61119 non-null  object \n",
      " 12  Occurrence            58666 non-null  object \n",
      " 13  OccurrenceTags        1445 non-null   object \n",
      " 14  Nativeness            56698 non-null  object \n",
      " 15  NativenessTags        125 non-null    object \n",
      " 16  Abundance             44163 non-null  object \n",
      " 17  NPSTags               7462 non-null   object \n",
      " 18  ParkTags              30346 non-null  object \n",
      " 19  References            61119 non-null  int64  \n",
      " 20  Observations          61119 non-null  int64  \n",
      " 21  Vouchers              61119 non-null  int64  \n",
      " 22  ExternalLinks         29 non-null     object \n",
      " 23  TEStatus              3769 non-null   object \n",
      " 24  StateStatus           2314 non-null   object \n",
      " 25  OzoneSensitiveStatus  377 non-null    object \n",
      " 26  GRank                 38265 non-null  object \n",
      " 27  SRank                 26349 non-null  object \n",
      "dtypes: bool(2), float64(1), int64(3), object(22)\n",
      "memory usage: 12.2+ MB\n"
     ]
    }
   ],
   "source": [
    "allspecies = pd.read_csv(\"most_visited_nps_species_data.csv\")\n",
    "allspecies.info()"
   ]
  },
  {
   "cell_type": "code",
   "execution_count": 11,
   "metadata": {},
   "outputs": [
    {
     "data": {
      "text/html": [
       "<div>\n",
       "<style scoped>\n",
       "    .dataframe tbody tr th:only-of-type {\n",
       "        vertical-align: middle;\n",
       "    }\n",
       "\n",
       "    .dataframe tbody tr th {\n",
       "        vertical-align: top;\n",
       "    }\n",
       "\n",
       "    .dataframe thead th {\n",
       "        text-align: right;\n",
       "    }\n",
       "</style>\n",
       "<table border=\"1\" class=\"dataframe\">\n",
       "  <thead>\n",
       "    <tr style=\"text-align: right;\">\n",
       "      <th></th>\n",
       "      <th>ParkName</th>\n",
       "      <th>CategoryName</th>\n",
       "      <th>Count</th>\n",
       "    </tr>\n",
       "  </thead>\n",
       "  <tbody>\n",
       "    <tr>\n",
       "      <th>0</th>\n",
       "      <td>Acadia National Park</td>\n",
       "      <td>Amphibian</td>\n",
       "      <td>15</td>\n",
       "    </tr>\n",
       "    <tr>\n",
       "      <th>1</th>\n",
       "      <td>Acadia National Park</td>\n",
       "      <td>Bird</td>\n",
       "      <td>364</td>\n",
       "    </tr>\n",
       "    <tr>\n",
       "      <th>2</th>\n",
       "      <td>Acadia National Park</td>\n",
       "      <td>Fish</td>\n",
       "      <td>38</td>\n",
       "    </tr>\n",
       "    <tr>\n",
       "      <th>3</th>\n",
       "      <td>Acadia National Park</td>\n",
       "      <td>Mammal</td>\n",
       "      <td>55</td>\n",
       "    </tr>\n",
       "    <tr>\n",
       "      <th>4</th>\n",
       "      <td>Acadia National Park</td>\n",
       "      <td>Reptile</td>\n",
       "      <td>11</td>\n",
       "    </tr>\n",
       "    <tr>\n",
       "      <th>...</th>\n",
       "      <td>...</td>\n",
       "      <td>...</td>\n",
       "      <td>...</td>\n",
       "    </tr>\n",
       "    <tr>\n",
       "      <th>158</th>\n",
       "      <td>Zion National Park</td>\n",
       "      <td>Bird</td>\n",
       "      <td>301</td>\n",
       "    </tr>\n",
       "    <tr>\n",
       "      <th>159</th>\n",
       "      <td>Zion National Park</td>\n",
       "      <td>Fish</td>\n",
       "      <td>15</td>\n",
       "    </tr>\n",
       "    <tr>\n",
       "      <th>160</th>\n",
       "      <td>Zion National Park</td>\n",
       "      <td>Mammal</td>\n",
       "      <td>80</td>\n",
       "    </tr>\n",
       "    <tr>\n",
       "      <th>161</th>\n",
       "      <td>Zion National Park</td>\n",
       "      <td>Reptile</td>\n",
       "      <td>30</td>\n",
       "    </tr>\n",
       "    <tr>\n",
       "      <th>162</th>\n",
       "      <td>Zion National Park</td>\n",
       "      <td>Vascular Plant</td>\n",
       "      <td>1366</td>\n",
       "    </tr>\n",
       "  </tbody>\n",
       "</table>\n",
       "<p>163 rows × 3 columns</p>\n",
       "</div>"
      ],
      "text/plain": [
       "                 ParkName    CategoryName  Count\n",
       "0    Acadia National Park       Amphibian     15\n",
       "1    Acadia National Park            Bird    364\n",
       "2    Acadia National Park            Fish     38\n",
       "3    Acadia National Park          Mammal     55\n",
       "4    Acadia National Park         Reptile     11\n",
       "..                    ...             ...    ...\n",
       "158    Zion National Park            Bird    301\n",
       "159    Zion National Park            Fish     15\n",
       "160    Zion National Park          Mammal     80\n",
       "161    Zion National Park         Reptile     30\n",
       "162    Zion National Park  Vascular Plant   1366\n",
       "\n",
       "[163 rows x 3 columns]"
      ]
     },
     "execution_count": 11,
     "metadata": {},
     "output_type": "execute_result"
    }
   ],
   "source": [
    "#Which parks have the most diverse categories(mammals, birds, reptiles, etc.)?\n",
    "category_count_by_park = allspecies.groupby(['ParkName','CategoryName']).size().reset_index(name='Count')\n",
    "category_count_by_park"
   ]
  },
  {
   "cell_type": "code",
   "execution_count": 12,
   "metadata": {},
   "outputs": [
    {
     "data": {
      "application/vnd.plotly.v1+json": {
       "config": {
        "plotlyServerURL": "https://plot.ly"
       },
       "data": [
        {
         "alignmentgroup": "True",
         "hovertemplate": "CategoryName=Amphibian<br>ParkName=%{x}<br>Number of Species=%{y}<extra></extra>",
         "legendgroup": "Amphibian",
         "marker": {
          "color": "#636efa",
          "pattern": {
           "shape": ""
          }
         },
         "name": "Amphibian",
         "offsetgroup": "Amphibian",
         "orientation": "v",
         "showlegend": true,
         "textposition": "auto",
         "type": "bar",
         "x": [
          "Acadia National Park",
          "Bryce Canyon National Park",
          "Cuyahoga Valley National Park",
          "Glacier National Park",
          "Grand Canyon National Park",
          "Grand Teton National Park",
          "Great Smoky Mountains National Park",
          "Hot Springs National Park",
          "Indiana Dunes National Park",
          "Joshua Tree National Park",
          "Olympic National Park",
          "Rocky Mountain National Park",
          "Yellowstone National Park",
          "Yosemite National Park",
          "Zion National Park"
         ],
         "xaxis": "x",
         "y": [
          15,
          4,
          24,
          6,
          15,
          6,
          58,
          27,
          24,
          5,
          16,
          5,
          9,
          14,
          7
         ],
         "yaxis": "y"
        },
        {
         "alignmentgroup": "True",
         "hovertemplate": "CategoryName=Bird<br>ParkName=%{x}<br>Number of Species=%{y}<extra></extra>",
         "legendgroup": "Bird",
         "marker": {
          "color": "#EF553B",
          "pattern": {
           "shape": ""
          }
         },
         "name": "Bird",
         "offsetgroup": "Bird",
         "orientation": "v",
         "showlegend": true,
         "textposition": "auto",
         "type": "bar",
         "x": [
          "Acadia National Park",
          "Bryce Canyon National Park",
          "Cuyahoga Valley National Park",
          "Glacier National Park",
          "Grand Canyon National Park",
          "Grand Teton National Park",
          "Great Smoky Mountains National Park",
          "Hot Springs National Park",
          "Indiana Dunes National Park",
          "Joshua Tree National Park",
          "Olympic National Park",
          "Rocky Mountain National Park",
          "Yellowstone National Park",
          "Yosemite National Park",
          "Zion National Park"
         ],
         "xaxis": "x",
         "y": [
          364,
          218,
          246,
          277,
          456,
          266,
          267,
          387,
          353,
          301,
          310,
          278,
          330,
          270,
          301
         ],
         "yaxis": "y"
        },
        {
         "alignmentgroup": "True",
         "hovertemplate": "CategoryName=Fish<br>ParkName=%{x}<br>Number of Species=%{y}<extra></extra>",
         "legendgroup": "Fish",
         "marker": {
          "color": "#00cc96",
          "pattern": {
           "shape": ""
          }
         },
         "name": "Fish",
         "offsetgroup": "Fish",
         "orientation": "v",
         "showlegend": true,
         "textposition": "auto",
         "type": "bar",
         "x": [
          "Acadia National Park",
          "Bryce Canyon National Park",
          "Cuyahoga Valley National Park",
          "Glacier National Park",
          "Grand Canyon National Park",
          "Grand Teton National Park",
          "Great Smoky Mountains National Park",
          "Hot Springs National Park",
          "Indiana Dunes National Park",
          "Joshua Tree National Park",
          "Olympic National Park",
          "Rocky Mountain National Park",
          "Yellowstone National Park",
          "Yosemite National Park",
          "Zion National Park"
         ],
         "xaxis": "x",
         "y": [
          38,
          1,
          85,
          27,
          29,
          23,
          110,
          90,
          76,
          1,
          97,
          12,
          19,
          10,
          15
         ],
         "yaxis": "y"
        },
        {
         "alignmentgroup": "True",
         "hovertemplate": "CategoryName=Mammal<br>ParkName=%{x}<br>Number of Species=%{y}<extra></extra>",
         "legendgroup": "Mammal",
         "marker": {
          "color": "#ab63fa",
          "pattern": {
           "shape": ""
          }
         },
         "name": "Mammal",
         "offsetgroup": "Mammal",
         "orientation": "v",
         "showlegend": true,
         "textposition": "auto",
         "type": "bar",
         "x": [
          "Acadia National Park",
          "Bryce Canyon National Park",
          "Cuyahoga Valley National Park",
          "Glacier National Park",
          "Grand Canyon National Park",
          "Grand Teton National Park",
          "Great Smoky Mountains National Park",
          "Hot Springs National Park",
          "Indiana Dunes National Park",
          "Joshua Tree National Park",
          "Olympic National Park",
          "Rocky Mountain National Park",
          "Yellowstone National Park",
          "Yosemite National Park",
          "Zion National Park"
         ],
         "xaxis": "x",
         "y": [
          55,
          76,
          47,
          69,
          107,
          74,
          101,
          52,
          60,
          67,
          79,
          75,
          78,
          87,
          80
         ],
         "yaxis": "y"
        },
        {
         "alignmentgroup": "True",
         "hovertemplate": "CategoryName=Reptile<br>ParkName=%{x}<br>Number of Species=%{y}<extra></extra>",
         "legendgroup": "Reptile",
         "marker": {
          "color": "#FFA15A",
          "pattern": {
           "shape": ""
          }
         },
         "name": "Reptile",
         "offsetgroup": "Reptile",
         "orientation": "v",
         "showlegend": true,
         "textposition": "auto",
         "type": "bar",
         "x": [
          "Acadia National Park",
          "Bryce Canyon National Park",
          "Cuyahoga Valley National Park",
          "Glacier National Park",
          "Grand Canyon National Park",
          "Grand Teton National Park",
          "Great Smoky Mountains National Park",
          "Hot Springs National Park",
          "Indiana Dunes National Park",
          "Joshua Tree National Park",
          "Olympic National Park",
          "Rocky Mountain National Park",
          "Yellowstone National Park",
          "Yosemite National Park",
          "Zion National Park"
         ],
         "xaxis": "x",
         "y": [
          11,
          13,
          24,
          4,
          76,
          5,
          47,
          52,
          30,
          52,
          6,
          3,
          9,
          22,
          30
         ],
         "yaxis": "y"
        },
        {
         "alignmentgroup": "True",
         "hovertemplate": "CategoryName=Vascular Plant<br>ParkName=%{x}<br>Number of Species=%{y}<extra></extra>",
         "legendgroup": "Vascular Plant",
         "marker": {
          "color": "#19d3f3",
          "pattern": {
           "shape": ""
          }
         },
         "name": "Vascular Plant",
         "offsetgroup": "Vascular Plant",
         "orientation": "v",
         "showlegend": true,
         "textposition": "auto",
         "type": "bar",
         "x": [
          "Acadia National Park",
          "Bryce Canyon National Park",
          "Cuyahoga Valley National Park",
          "Glacier National Park",
          "Grand Canyon National Park",
          "Grand Teton National Park",
          "Great Smoky Mountains National Park",
          "Hot Springs National Park",
          "Indiana Dunes National Park",
          "Joshua Tree National Park",
          "Olympic National Park",
          "Rocky Mountain National Park",
          "Yellowstone National Park",
          "Yosemite National Park",
          "Zion National Park"
         ],
         "xaxis": "x",
         "y": [
          1226,
          975,
          1239,
          1269,
          1753,
          1645,
          2163,
          1252,
          1622,
          1314,
          1352,
          1119,
          1444,
          1683,
          1366
         ],
         "yaxis": "y"
        },
        {
         "alignmentgroup": "True",
         "hovertemplate": "CategoryName=Crab/Lobster/Shrimp<br>ParkName=%{x}<br>Number of Species=%{y}<extra></extra>",
         "legendgroup": "Crab/Lobster/Shrimp",
         "marker": {
          "color": "#FF6692",
          "pattern": {
           "shape": ""
          }
         },
         "name": "Crab/Lobster/Shrimp",
         "offsetgroup": "Crab/Lobster/Shrimp",
         "orientation": "v",
         "showlegend": true,
         "textposition": "auto",
         "type": "bar",
         "x": [
          "Cuyahoga Valley National Park",
          "Glacier National Park",
          "Grand Canyon National Park",
          "Grand Teton National Park",
          "Great Smoky Mountains National Park",
          "Hot Springs National Park",
          "Rocky Mountain National Park",
          "Yellowstone National Park"
         ],
         "xaxis": "x",
         "y": [
          8,
          6,
          2,
          11,
          125,
          9,
          39,
          64
         ],
         "yaxis": "y"
        },
        {
         "alignmentgroup": "True",
         "hovertemplate": "CategoryName=Insect<br>ParkName=%{x}<br>Number of Species=%{y}<extra></extra>",
         "legendgroup": "Insect",
         "marker": {
          "color": "#B6E880",
          "pattern": {
           "shape": ""
          }
         },
         "name": "Insect",
         "offsetgroup": "Insect",
         "orientation": "v",
         "showlegend": true,
         "textposition": "auto",
         "type": "bar",
         "x": [
          "Cuyahoga Valley National Park",
          "Glacier National Park",
          "Grand Canyon National Park",
          "Grand Teton National Park",
          "Great Smoky Mountains National Park",
          "Hot Springs National Park",
          "Indiana Dunes National Park",
          "Joshua Tree National Park",
          "Olympic National Park",
          "Rocky Mountain National Park",
          "Yellowstone National Park"
         ],
         "xaxis": "x",
         "y": [
          227,
          197,
          125,
          155,
          12398,
          15,
          249,
          342,
          87,
          676,
          1764
         ],
         "yaxis": "y"
        },
        {
         "alignmentgroup": "True",
         "hovertemplate": "CategoryName=Other Non-vertebrates<br>ParkName=%{x}<br>Number of Species=%{y}<extra></extra>",
         "legendgroup": "Other Non-vertebrates",
         "marker": {
          "color": "#FF97FF",
          "pattern": {
           "shape": ""
          }
         },
         "name": "Other Non-vertebrates",
         "offsetgroup": "Other Non-vertebrates",
         "orientation": "v",
         "showlegend": true,
         "textposition": "auto",
         "type": "bar",
         "x": [
          "Cuyahoga Valley National Park",
          "Glacier National Park",
          "Grand Canyon National Park",
          "Grand Teton National Park",
          "Great Smoky Mountains National Park",
          "Hot Springs National Park",
          "Joshua Tree National Park",
          "Rocky Mountain National Park",
          "Yellowstone National Park"
         ],
         "xaxis": "x",
         "y": [
          25,
          2,
          1,
          8,
          993,
          22,
          10,
          48,
          80
         ],
         "yaxis": "y"
        },
        {
         "alignmentgroup": "True",
         "hovertemplate": "CategoryName=Slug/Snail<br>ParkName=%{x}<br>Number of Species=%{y}<extra></extra>",
         "legendgroup": "Slug/Snail",
         "marker": {
          "color": "#FECB52",
          "pattern": {
           "shape": ""
          }
         },
         "name": "Slug/Snail",
         "offsetgroup": "Slug/Snail",
         "orientation": "v",
         "showlegend": true,
         "textposition": "auto",
         "type": "bar",
         "x": [
          "Cuyahoga Valley National Park",
          "Glacier National Park",
          "Grand Canyon National Park",
          "Grand Teton National Park",
          "Great Smoky Mountains National Park",
          "Hot Springs National Park",
          "Rocky Mountain National Park",
          "Yellowstone National Park"
         ],
         "xaxis": "x",
         "y": [
          15,
          20,
          2,
          24,
          291,
          2,
          10,
          61
         ],
         "yaxis": "y"
        },
        {
         "alignmentgroup": "True",
         "hovertemplate": "CategoryName=Spider/Scorpion<br>ParkName=%{x}<br>Number of Species=%{y}<extra></extra>",
         "legendgroup": "Spider/Scorpion",
         "marker": {
          "color": "#636efa",
          "pattern": {
           "shape": ""
          }
         },
         "name": "Spider/Scorpion",
         "offsetgroup": "Spider/Scorpion",
         "orientation": "v",
         "showlegend": true,
         "textposition": "auto",
         "type": "bar",
         "x": [
          "Cuyahoga Valley National Park",
          "Grand Canyon National Park",
          "Grand Teton National Park",
          "Great Smoky Mountains National Park",
          "Indiana Dunes National Park",
          "Joshua Tree National Park",
          "Rocky Mountain National Park",
          "Yellowstone National Park"
         ],
         "xaxis": "x",
         "y": [
          2,
          142,
          1,
          4630,
          1,
          153,
          22,
          43
         ],
         "yaxis": "y"
        },
        {
         "alignmentgroup": "True",
         "hovertemplate": "CategoryName=Chromista<br>ParkName=%{x}<br>Number of Species=%{y}<extra></extra>",
         "legendgroup": "Chromista",
         "marker": {
          "color": "#EF553B",
          "pattern": {
           "shape": ""
          }
         },
         "name": "Chromista",
         "offsetgroup": "Chromista",
         "orientation": "v",
         "showlegend": true,
         "textposition": "auto",
         "type": "bar",
         "x": [
          "Glacier National Park",
          "Grand Teton National Park",
          "Great Smoky Mountains National Park",
          "Hot Springs National Park",
          "Joshua Tree National Park",
          "Rocky Mountain National Park",
          "Yellowstone National Park"
         ],
         "xaxis": "x",
         "y": [
          2,
          1,
          654,
          24,
          5,
          150,
          204
         ],
         "yaxis": "y"
        },
        {
         "alignmentgroup": "True",
         "hovertemplate": "CategoryName=Fungi<br>ParkName=%{x}<br>Number of Species=%{y}<extra></extra>",
         "legendgroup": "Fungi",
         "marker": {
          "color": "#00cc96",
          "pattern": {
           "shape": ""
          }
         },
         "name": "Fungi",
         "offsetgroup": "Fungi",
         "orientation": "v",
         "showlegend": true,
         "textposition": "auto",
         "type": "bar",
         "x": [
          "Glacier National Park",
          "Grand Teton National Park",
          "Great Smoky Mountains National Park",
          "Indiana Dunes National Park",
          "Joshua Tree National Park",
          "Rocky Mountain National Park",
          "Yellowstone National Park"
         ],
         "xaxis": "x",
         "y": [
          276,
          28,
          5243,
          69,
          38,
          306,
          37
         ],
         "yaxis": "y"
        },
        {
         "alignmentgroup": "True",
         "hovertemplate": "CategoryName=Non-vascular Plant<br>ParkName=%{x}<br>Number of Species=%{y}<extra></extra>",
         "legendgroup": "Non-vascular Plant",
         "marker": {
          "color": "#ab63fa",
          "pattern": {
           "shape": ""
          }
         },
         "name": "Non-vascular Plant",
         "offsetgroup": "Non-vascular Plant",
         "orientation": "v",
         "showlegend": true,
         "textposition": "auto",
         "type": "bar",
         "x": [
          "Glacier National Park",
          "Great Smoky Mountains National Park",
          "Hot Springs National Park",
          "Joshua Tree National Park",
          "Rocky Mountain National Park",
          "Yellowstone National Park"
         ],
         "xaxis": "x",
         "y": [
          404,
          1039,
          18,
          6,
          416,
          15
         ],
         "yaxis": "y"
        },
        {
         "alignmentgroup": "True",
         "hovertemplate": "CategoryName=Bacteria<br>ParkName=%{x}<br>Number of Species=%{y}<extra></extra>",
         "legendgroup": "Bacteria",
         "marker": {
          "color": "#FFA15A",
          "pattern": {
           "shape": ""
          }
         },
         "name": "Bacteria",
         "offsetgroup": "Bacteria",
         "orientation": "v",
         "showlegend": true,
         "textposition": "auto",
         "type": "bar",
         "x": [
          "Great Smoky Mountains National Park",
          "Hot Springs National Park",
          "Joshua Tree National Park",
          "Rocky Mountain National Park",
          "Yellowstone National Park"
         ],
         "xaxis": "x",
         "y": [
          294,
          10,
          23,
          45,
          4
         ],
         "yaxis": "y"
        },
        {
         "alignmentgroup": "True",
         "hovertemplate": "CategoryName=Protozoa<br>ParkName=%{x}<br>Number of Species=%{y}<extra></extra>",
         "legendgroup": "Protozoa",
         "marker": {
          "color": "#19d3f3",
          "pattern": {
           "shape": ""
          }
         },
         "name": "Protozoa",
         "offsetgroup": "Protozoa",
         "orientation": "v",
         "showlegend": true,
         "textposition": "auto",
         "type": "bar",
         "x": [
          "Great Smoky Mountains National Park",
          "Hot Springs National Park",
          "Rocky Mountain National Park",
          "Yellowstone National Park"
         ],
         "xaxis": "x",
         "y": [
          257,
          12,
          9,
          18
         ],
         "yaxis": "y"
        }
       ],
       "layout": {
        "barmode": "relative",
        "height": 700,
        "legend": {
         "title": {
          "text": "Species Cateogries"
         },
         "tracegroupgap": 0
        },
        "template": {
         "data": {
          "bar": [
           {
            "error_x": {
             "color": "#2a3f5f"
            },
            "error_y": {
             "color": "#2a3f5f"
            },
            "marker": {
             "line": {
              "color": "#E5ECF6",
              "width": 0.5
             },
             "pattern": {
              "fillmode": "overlay",
              "size": 10,
              "solidity": 0.2
             }
            },
            "type": "bar"
           }
          ],
          "barpolar": [
           {
            "marker": {
             "line": {
              "color": "#E5ECF6",
              "width": 0.5
             },
             "pattern": {
              "fillmode": "overlay",
              "size": 10,
              "solidity": 0.2
             }
            },
            "type": "barpolar"
           }
          ],
          "carpet": [
           {
            "aaxis": {
             "endlinecolor": "#2a3f5f",
             "gridcolor": "white",
             "linecolor": "white",
             "minorgridcolor": "white",
             "startlinecolor": "#2a3f5f"
            },
            "baxis": {
             "endlinecolor": "#2a3f5f",
             "gridcolor": "white",
             "linecolor": "white",
             "minorgridcolor": "white",
             "startlinecolor": "#2a3f5f"
            },
            "type": "carpet"
           }
          ],
          "choropleth": [
           {
            "colorbar": {
             "outlinewidth": 0,
             "ticks": ""
            },
            "type": "choropleth"
           }
          ],
          "contour": [
           {
            "colorbar": {
             "outlinewidth": 0,
             "ticks": ""
            },
            "colorscale": [
             [
              0,
              "#0d0887"
             ],
             [
              0.1111111111111111,
              "#46039f"
             ],
             [
              0.2222222222222222,
              "#7201a8"
             ],
             [
              0.3333333333333333,
              "#9c179e"
             ],
             [
              0.4444444444444444,
              "#bd3786"
             ],
             [
              0.5555555555555556,
              "#d8576b"
             ],
             [
              0.6666666666666666,
              "#ed7953"
             ],
             [
              0.7777777777777778,
              "#fb9f3a"
             ],
             [
              0.8888888888888888,
              "#fdca26"
             ],
             [
              1,
              "#f0f921"
             ]
            ],
            "type": "contour"
           }
          ],
          "contourcarpet": [
           {
            "colorbar": {
             "outlinewidth": 0,
             "ticks": ""
            },
            "type": "contourcarpet"
           }
          ],
          "heatmap": [
           {
            "colorbar": {
             "outlinewidth": 0,
             "ticks": ""
            },
            "colorscale": [
             [
              0,
              "#0d0887"
             ],
             [
              0.1111111111111111,
              "#46039f"
             ],
             [
              0.2222222222222222,
              "#7201a8"
             ],
             [
              0.3333333333333333,
              "#9c179e"
             ],
             [
              0.4444444444444444,
              "#bd3786"
             ],
             [
              0.5555555555555556,
              "#d8576b"
             ],
             [
              0.6666666666666666,
              "#ed7953"
             ],
             [
              0.7777777777777778,
              "#fb9f3a"
             ],
             [
              0.8888888888888888,
              "#fdca26"
             ],
             [
              1,
              "#f0f921"
             ]
            ],
            "type": "heatmap"
           }
          ],
          "heatmapgl": [
           {
            "colorbar": {
             "outlinewidth": 0,
             "ticks": ""
            },
            "colorscale": [
             [
              0,
              "#0d0887"
             ],
             [
              0.1111111111111111,
              "#46039f"
             ],
             [
              0.2222222222222222,
              "#7201a8"
             ],
             [
              0.3333333333333333,
              "#9c179e"
             ],
             [
              0.4444444444444444,
              "#bd3786"
             ],
             [
              0.5555555555555556,
              "#d8576b"
             ],
             [
              0.6666666666666666,
              "#ed7953"
             ],
             [
              0.7777777777777778,
              "#fb9f3a"
             ],
             [
              0.8888888888888888,
              "#fdca26"
             ],
             [
              1,
              "#f0f921"
             ]
            ],
            "type": "heatmapgl"
           }
          ],
          "histogram": [
           {
            "marker": {
             "pattern": {
              "fillmode": "overlay",
              "size": 10,
              "solidity": 0.2
             }
            },
            "type": "histogram"
           }
          ],
          "histogram2d": [
           {
            "colorbar": {
             "outlinewidth": 0,
             "ticks": ""
            },
            "colorscale": [
             [
              0,
              "#0d0887"
             ],
             [
              0.1111111111111111,
              "#46039f"
             ],
             [
              0.2222222222222222,
              "#7201a8"
             ],
             [
              0.3333333333333333,
              "#9c179e"
             ],
             [
              0.4444444444444444,
              "#bd3786"
             ],
             [
              0.5555555555555556,
              "#d8576b"
             ],
             [
              0.6666666666666666,
              "#ed7953"
             ],
             [
              0.7777777777777778,
              "#fb9f3a"
             ],
             [
              0.8888888888888888,
              "#fdca26"
             ],
             [
              1,
              "#f0f921"
             ]
            ],
            "type": "histogram2d"
           }
          ],
          "histogram2dcontour": [
           {
            "colorbar": {
             "outlinewidth": 0,
             "ticks": ""
            },
            "colorscale": [
             [
              0,
              "#0d0887"
             ],
             [
              0.1111111111111111,
              "#46039f"
             ],
             [
              0.2222222222222222,
              "#7201a8"
             ],
             [
              0.3333333333333333,
              "#9c179e"
             ],
             [
              0.4444444444444444,
              "#bd3786"
             ],
             [
              0.5555555555555556,
              "#d8576b"
             ],
             [
              0.6666666666666666,
              "#ed7953"
             ],
             [
              0.7777777777777778,
              "#fb9f3a"
             ],
             [
              0.8888888888888888,
              "#fdca26"
             ],
             [
              1,
              "#f0f921"
             ]
            ],
            "type": "histogram2dcontour"
           }
          ],
          "mesh3d": [
           {
            "colorbar": {
             "outlinewidth": 0,
             "ticks": ""
            },
            "type": "mesh3d"
           }
          ],
          "parcoords": [
           {
            "line": {
             "colorbar": {
              "outlinewidth": 0,
              "ticks": ""
             }
            },
            "type": "parcoords"
           }
          ],
          "pie": [
           {
            "automargin": true,
            "type": "pie"
           }
          ],
          "scatter": [
           {
            "fillpattern": {
             "fillmode": "overlay",
             "size": 10,
             "solidity": 0.2
            },
            "type": "scatter"
           }
          ],
          "scatter3d": [
           {
            "line": {
             "colorbar": {
              "outlinewidth": 0,
              "ticks": ""
             }
            },
            "marker": {
             "colorbar": {
              "outlinewidth": 0,
              "ticks": ""
             }
            },
            "type": "scatter3d"
           }
          ],
          "scattercarpet": [
           {
            "marker": {
             "colorbar": {
              "outlinewidth": 0,
              "ticks": ""
             }
            },
            "type": "scattercarpet"
           }
          ],
          "scattergeo": [
           {
            "marker": {
             "colorbar": {
              "outlinewidth": 0,
              "ticks": ""
             }
            },
            "type": "scattergeo"
           }
          ],
          "scattergl": [
           {
            "marker": {
             "colorbar": {
              "outlinewidth": 0,
              "ticks": ""
             }
            },
            "type": "scattergl"
           }
          ],
          "scattermapbox": [
           {
            "marker": {
             "colorbar": {
              "outlinewidth": 0,
              "ticks": ""
             }
            },
            "type": "scattermapbox"
           }
          ],
          "scatterpolar": [
           {
            "marker": {
             "colorbar": {
              "outlinewidth": 0,
              "ticks": ""
             }
            },
            "type": "scatterpolar"
           }
          ],
          "scatterpolargl": [
           {
            "marker": {
             "colorbar": {
              "outlinewidth": 0,
              "ticks": ""
             }
            },
            "type": "scatterpolargl"
           }
          ],
          "scatterternary": [
           {
            "marker": {
             "colorbar": {
              "outlinewidth": 0,
              "ticks": ""
             }
            },
            "type": "scatterternary"
           }
          ],
          "surface": [
           {
            "colorbar": {
             "outlinewidth": 0,
             "ticks": ""
            },
            "colorscale": [
             [
              0,
              "#0d0887"
             ],
             [
              0.1111111111111111,
              "#46039f"
             ],
             [
              0.2222222222222222,
              "#7201a8"
             ],
             [
              0.3333333333333333,
              "#9c179e"
             ],
             [
              0.4444444444444444,
              "#bd3786"
             ],
             [
              0.5555555555555556,
              "#d8576b"
             ],
             [
              0.6666666666666666,
              "#ed7953"
             ],
             [
              0.7777777777777778,
              "#fb9f3a"
             ],
             [
              0.8888888888888888,
              "#fdca26"
             ],
             [
              1,
              "#f0f921"
             ]
            ],
            "type": "surface"
           }
          ],
          "table": [
           {
            "cells": {
             "fill": {
              "color": "#EBF0F8"
             },
             "line": {
              "color": "white"
             }
            },
            "header": {
             "fill": {
              "color": "#C8D4E3"
             },
             "line": {
              "color": "white"
             }
            },
            "type": "table"
           }
          ]
         },
         "layout": {
          "annotationdefaults": {
           "arrowcolor": "#2a3f5f",
           "arrowhead": 0,
           "arrowwidth": 1
          },
          "autotypenumbers": "strict",
          "coloraxis": {
           "colorbar": {
            "outlinewidth": 0,
            "ticks": ""
           }
          },
          "colorscale": {
           "diverging": [
            [
             0,
             "#8e0152"
            ],
            [
             0.1,
             "#c51b7d"
            ],
            [
             0.2,
             "#de77ae"
            ],
            [
             0.3,
             "#f1b6da"
            ],
            [
             0.4,
             "#fde0ef"
            ],
            [
             0.5,
             "#f7f7f7"
            ],
            [
             0.6,
             "#e6f5d0"
            ],
            [
             0.7,
             "#b8e186"
            ],
            [
             0.8,
             "#7fbc41"
            ],
            [
             0.9,
             "#4d9221"
            ],
            [
             1,
             "#276419"
            ]
           ],
           "sequential": [
            [
             0,
             "#0d0887"
            ],
            [
             0.1111111111111111,
             "#46039f"
            ],
            [
             0.2222222222222222,
             "#7201a8"
            ],
            [
             0.3333333333333333,
             "#9c179e"
            ],
            [
             0.4444444444444444,
             "#bd3786"
            ],
            [
             0.5555555555555556,
             "#d8576b"
            ],
            [
             0.6666666666666666,
             "#ed7953"
            ],
            [
             0.7777777777777778,
             "#fb9f3a"
            ],
            [
             0.8888888888888888,
             "#fdca26"
            ],
            [
             1,
             "#f0f921"
            ]
           ],
           "sequentialminus": [
            [
             0,
             "#0d0887"
            ],
            [
             0.1111111111111111,
             "#46039f"
            ],
            [
             0.2222222222222222,
             "#7201a8"
            ],
            [
             0.3333333333333333,
             "#9c179e"
            ],
            [
             0.4444444444444444,
             "#bd3786"
            ],
            [
             0.5555555555555556,
             "#d8576b"
            ],
            [
             0.6666666666666666,
             "#ed7953"
            ],
            [
             0.7777777777777778,
             "#fb9f3a"
            ],
            [
             0.8888888888888888,
             "#fdca26"
            ],
            [
             1,
             "#f0f921"
            ]
           ]
          },
          "colorway": [
           "#636efa",
           "#EF553B",
           "#00cc96",
           "#ab63fa",
           "#FFA15A",
           "#19d3f3",
           "#FF6692",
           "#B6E880",
           "#FF97FF",
           "#FECB52"
          ],
          "font": {
           "color": "#2a3f5f"
          },
          "geo": {
           "bgcolor": "white",
           "lakecolor": "white",
           "landcolor": "#E5ECF6",
           "showlakes": true,
           "showland": true,
           "subunitcolor": "white"
          },
          "hoverlabel": {
           "align": "left"
          },
          "hovermode": "closest",
          "mapbox": {
           "style": "light"
          },
          "paper_bgcolor": "white",
          "plot_bgcolor": "#E5ECF6",
          "polar": {
           "angularaxis": {
            "gridcolor": "white",
            "linecolor": "white",
            "ticks": ""
           },
           "bgcolor": "#E5ECF6",
           "radialaxis": {
            "gridcolor": "white",
            "linecolor": "white",
            "ticks": ""
           }
          },
          "scene": {
           "xaxis": {
            "backgroundcolor": "#E5ECF6",
            "gridcolor": "white",
            "gridwidth": 2,
            "linecolor": "white",
            "showbackground": true,
            "ticks": "",
            "zerolinecolor": "white"
           },
           "yaxis": {
            "backgroundcolor": "#E5ECF6",
            "gridcolor": "white",
            "gridwidth": 2,
            "linecolor": "white",
            "showbackground": true,
            "ticks": "",
            "zerolinecolor": "white"
           },
           "zaxis": {
            "backgroundcolor": "#E5ECF6",
            "gridcolor": "white",
            "gridwidth": 2,
            "linecolor": "white",
            "showbackground": true,
            "ticks": "",
            "zerolinecolor": "white"
           }
          },
          "shapedefaults": {
           "line": {
            "color": "#2a3f5f"
           }
          },
          "ternary": {
           "aaxis": {
            "gridcolor": "white",
            "linecolor": "white",
            "ticks": ""
           },
           "baxis": {
            "gridcolor": "white",
            "linecolor": "white",
            "ticks": ""
           },
           "bgcolor": "#E5ECF6",
           "caxis": {
            "gridcolor": "white",
            "linecolor": "white",
            "ticks": ""
           }
          },
          "title": {
           "x": 0.05
          },
          "xaxis": {
           "automargin": true,
           "gridcolor": "white",
           "linecolor": "white",
           "ticks": "",
           "title": {
            "standoff": 15
           },
           "zerolinecolor": "white",
           "zerolinewidth": 2
          },
          "yaxis": {
           "automargin": true,
           "gridcolor": "white",
           "linecolor": "white",
           "ticks": "",
           "title": {
            "standoff": 15
           },
           "zerolinecolor": "white",
           "zerolinewidth": 2
          }
         }
        },
        "title": {
         "text": "Species Categories Across Parks"
        },
        "width": 700,
        "xaxis": {
         "anchor": "y",
         "domain": [
          0,
          1
         ],
         "tickangle": -45,
         "title": {
          "text": "ParkName"
         }
        },
        "yaxis": {
         "anchor": "x",
         "domain": [
          0,
          1
         ],
         "title": {
          "text": "Number of Species"
         }
        }
       }
      }
     },
     "metadata": {},
     "output_type": "display_data"
    }
   ],
   "source": [
    "sortedCategories = sorted(allspecies['CategoryName'].unique())\n",
    "\n",
    "fig_allparks = px.bar(category_count_by_park, \n",
    "                      x=\"ParkName\", y=\"Count\", color=\"CategoryName\",\n",
    "                      category_orders={'CategoryName': sortedCategories},\n",
    "                      title=\"Species Categories Across Parks\",\n",
    "                      labels={'Count':'Number of Species'},\n",
    "                      width=700, height=700)\n",
    "\n",
    "fig_allparks.update_layout(xaxis_tickangle=-45,\n",
    "                           legend_title_text=\"Species Cateogries\")\n",
    "\n",
    "fig_allparks.show()"
   ]
  },
  {
   "cell_type": "code",
   "execution_count": 13,
   "metadata": {},
   "outputs": [
    {
     "data": {
      "application/vnd.jupyter.widget-view+json": {
       "model_id": "6df2107b6ee744eca869c0c02a81a211",
       "version_major": 2,
       "version_minor": 0
      },
      "text/plain": [
       "Dropdown(description='Park Name: ', index=13, options=('Acadia National Park', 'Bryce Canyon National Park', '…"
      ]
     },
     "metadata": {},
     "output_type": "display_data"
    },
    {
     "data": {
      "application/vnd.jupyter.widget-view+json": {
       "model_id": "b2c0ab3ac7b04cf4ab674f0d48b95c72",
       "version_major": 2,
       "version_minor": 0
      },
      "text/plain": [
       "FigureWidget({\n",
       "    'data': [],\n",
       "    'layout': {'barmode': 'group',\n",
       "               'height': 700,\n",
       "               'template': '...',\n",
       "               'title': {'text': 'Species Categories by Yosemite National Park', 'x': 0.5},\n",
       "               'width': 700,\n",
       "               'xaxis': {'tickangle': -45, 'title': {'text': 'Species Category Name'}},\n",
       "               'yaxis': {'title': {'text': 'Number of Species'}}}\n",
       "})"
      ]
     },
     "metadata": {},
     "output_type": "display_data"
    }
   ],
   "source": [
    "#create dropdown widget for selecting Park\n",
    "park_dropdown = widgets.Dropdown(\n",
    "    description=\"Park Name: \",\n",
    "    value=\"Yosemite National Park\",\n",
    "    options=category_count_by_park['ParkName'].unique().tolist()\n",
    ")\n",
    "\n",
    "#create bar chart for speices and their counts\n",
    "def create_bar_chart(Category,Count):\n",
    "    return[\n",
    "        go.Bar(x=Category, y=Count, name='Num of Species', opacity=0.75)\n",
    "    ]\n",
    "\n",
    "#assign empty figure widget\n",
    "g_bypark = go.FigureWidget(\n",
    "    layout=go.Layout(\n",
    "        title=dict(text=\"Species Categories by Yosemite National Park\", x=0.5),\n",
    "        barmode='group',\n",
    "        xaxis_title='Species Category Name',\n",
    "        yaxis_title='Number of Species',\n",
    "        xaxis=dict(tickangle=-45),width=700, height=700\n",
    "    )\n",
    ")\n",
    "\n",
    "def response(change):\n",
    "    #filter df based on selected park\n",
    "    selected_park = category_count_by_park[category_count_by_park['ParkName']==park_dropdown.value]\n",
    "\n",
    "    #extract species category name and their corresponding counts \n",
    "    category = selected_park['CategoryName'].tolist()\n",
    "    numOfspecies = selected_park['Count'].tolist()\n",
    "\n",
    "    g_bypark.data = [] #clears existing data from figure to update with new data\n",
    "    g_bypark.add_traces(create_bar_chart(category,numOfspecies)) #create new bar chart to the figure\n",
    "\n",
    "    #update graph title based on user selection\n",
    "    g_bypark.layout.title.text = f'Species Categories by {park_dropdown.value}'\n",
    "\n",
    "park_dropdown.observe(response,names='value')\n",
    "display(park_dropdown,g_bypark)\n",
    "response(None)"
   ]
  },
  {
   "cell_type": "code",
   "execution_count": 14,
   "metadata": {},
   "outputs": [
    {
     "data": {
      "application/vnd.jupyter.widget-view+json": {
       "model_id": "872dd9760a924984a87348c23edcd2bf",
       "version_major": 2,
       "version_minor": 0
      },
      "text/plain": [
       "Tab(children=(FigureWidget({\n",
       "    'data': [{'alignmentgroup': 'True',\n",
       "              'hovertemplate': 'CategoryN…"
      ]
     },
     "metadata": {},
     "output_type": "display_data"
    }
   ],
   "source": [
    "#create tab widget\n",
    "tab = widgets.Tab()\n",
    "\n",
    "eachpark_tab = widgets.VBox([park_dropdown, g_bypark])\n",
    "allparks_tab = go.FigureWidget(fig_allparks)\n",
    "tab.children=[allparks_tab,eachpark_tab]\n",
    "tab.set_title(0, 'All Parks')\n",
    "tab.set_title(1, 'Each Park')\n",
    "\n",
    "park_dropdown.observe(response,names='value')\n",
    "display(tab)\n",
    "response(None)"
   ]
  }
 ],
 "metadata": {
  "kernelspec": {
   "display_name": "Python 3",
   "language": "python",
   "name": "python3"
  },
  "language_info": {
   "codemirror_mode": {
    "name": "ipython",
    "version": 3
   },
   "file_extension": ".py",
   "mimetype": "text/x-python",
   "name": "python",
   "nbconvert_exporter": "python",
   "pygments_lexer": "ipython3",
   "version": "3.11.3"
  }
 },
 "nbformat": 4,
 "nbformat_minor": 2
}
